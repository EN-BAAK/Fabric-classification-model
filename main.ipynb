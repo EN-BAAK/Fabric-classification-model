{
 "cells": [
  {
   "cell_type": "code",
   "execution_count": null,
   "id": "5ec6b982",
   "metadata": {},
   "outputs": [],
   "source": [
    "import tensorflow as tf\n",
    "from tensorflow.keras import models, layers\n",
    "import matplotlib.pyplot as plt\n",
    "import numpy as np\n",
    "import pandas as pd\n",
    "import seaborn as sns"
   ]
  },
  {
   "cell_type": "code",
   "execution_count": null,
   "id": "8c45b4eb",
   "metadata": {},
   "outputs": [],
   "source": [
    "from helpers import split_data_set, view_dataset_batches, convert_to_gray_scale, get_class_distribution, plot_bar, plot_pie"
   ]
  },
  {
   "cell_type": "code",
   "execution_count": null,
   "id": "db93518f",
   "metadata": {},
   "outputs": [],
   "source": [
    "from vars import IMAGE_SIZE, DATASET_DIRECTORY, BATCH_SIZE, TRAINING_SIZE, SHUFFLE_SIZE, SEED, COLORS, EPOCHS, FILTER_SIZE, INPUT_SHAPE, POOLING_SIZE, FILTERS_NUMBER, HUGE_FILTER_SIZE"
   ]
  },
  {
   "cell_type": "markdown",
   "id": "360dbfe4",
   "metadata": {},
   "source": [
    "<h1>Fetch Data From Dataset</h1>"
   ]
  },
  {
   "cell_type": "code",
   "execution_count": null,
   "id": "6954444c",
   "metadata": {},
   "outputs": [],
   "source": [
    "dataset = tf.keras.preprocessing.image_dataset_from_directory(\n",
    "    DATASET_DIRECTORY,\n",
    "    shuffle=True,\n",
    "    image_size=(IMAGE_SIZE, IMAGE_SIZE),\n",
    "    batch_size=BATCH_SIZE\n",
    ")"
   ]
  },
  {
   "cell_type": "code",
   "execution_count": null,
   "id": "0a7979b5",
   "metadata": {},
   "outputs": [],
   "source": [
    "class_names = dataset.class_names\n",
    "class_names"
   ]
  },
  {
   "cell_type": "code",
   "execution_count": null,
   "id": "24679661",
   "metadata": {},
   "outputs": [],
   "source": [
    "n_classes = len(class_names)\n",
    "n_classes"
   ]
  },
  {
   "cell_type": "code",
   "execution_count": null,
   "id": "907c6d76",
   "metadata": {},
   "outputs": [],
   "source": [
    "len(dataset)"
   ]
  },
  {
   "cell_type": "code",
   "execution_count": null,
   "id": "08713583",
   "metadata": {},
   "outputs": [],
   "source": [
    "for image_batch, label_batch in dataset.take(1):\n",
    "    print(\"Image shape:\", image_batch.shape)\n",
    "    print(\"Image class:\", label_batch.numpy())"
   ]
  },
  {
   "cell_type": "code",
   "execution_count": null,
   "id": "04ff2c66",
   "metadata": {},
   "outputs": [],
   "source": [
    "view_dataset_batches(dataset, class_names)"
   ]
  },
  {
   "cell_type": "markdown",
   "id": "7c006e3b",
   "metadata": {},
   "source": [
    "<p>Convert to gray scale</p>"
   ]
  },
  {
   "cell_type": "code",
   "execution_count": null,
   "id": "4d961e03",
   "metadata": {},
   "outputs": [],
   "source": [
    "dataset = dataset.map(convert_to_gray_scale)"
   ]
  },
  {
   "cell_type": "markdown",
   "id": "85e558a8",
   "metadata": {},
   "source": [
    "<h1>Split data</h1>\n",
    "<h4 style=\"margin-bottom: 8px;\">we will split the dataset to:</h4>\n",
    "<p style=\"margin: 0;\">80% ==> training</p>\n",
    "<p style=\"margin: 0;\">20% ==> 10% validation, 10% test</p>"
   ]
  },
  {
   "cell_type": "code",
   "execution_count": null,
   "id": "080e41ad",
   "metadata": {},
   "outputs": [],
   "source": [
    "training_ds, validation_ds, testing_ds = split_data_set(dataset, TRAINING_SIZE, 0.1, True, SHUFFLE_SIZE, SEED)"
   ]
  },
  {
   "cell_type": "code",
   "execution_count": null,
   "id": "24de6c43",
   "metadata": {},
   "outputs": [],
   "source": [
    "len(training_ds)"
   ]
  },
  {
   "cell_type": "code",
   "execution_count": null,
   "id": "3bf3b7e4",
   "metadata": {},
   "outputs": [],
   "source": [
    "len(validation_ds)"
   ]
  },
  {
   "cell_type": "code",
   "execution_count": null,
   "id": "f1a26054",
   "metadata": {},
   "outputs": [],
   "source": [
    "len(testing_ds)"
   ]
  },
  {
   "cell_type": "code",
   "execution_count": null,
   "id": "c9d99cd1",
   "metadata": {},
   "outputs": [],
   "source": [
    "training_ds = training_ds.cache().shuffle(1000).prefetch(buffer_size = tf.data.AUTOTUNE)\n",
    "validation_ds = validation_ds.cache().shuffle(1000).prefetch(buffer_size = tf.data.AUTOTUNE)\n",
    "testing_ds = testing_ds.cache().shuffle(1000).prefetch(buffer_size = tf.data.AUTOTUNE)"
   ]
  },
  {
   "cell_type": "code",
   "execution_count": null,
   "id": "7e334109",
   "metadata": {},
   "outputs": [],
   "source": [
    "for image_batch, label_batch in dataset.take(1):\n",
    "    print(\"Image shape:\", image_batch.shape)\n",
    "    print(\"Image class:\", label_batch.numpy())"
   ]
  },
  {
   "cell_type": "code",
   "execution_count": null,
   "id": "d70ca134",
   "metadata": {},
   "outputs": [],
   "source": [
    "view_dataset_batches(dataset, class_names, is_gray=True)"
   ]
  },
  {
   "cell_type": "markdown",
   "id": "0596d3af",
   "metadata": {},
   "source": [
    "<h1>Understand and see the dataset</h1>"
   ]
  },
  {
   "cell_type": "code",
   "execution_count": null,
   "id": "27bcfc66",
   "metadata": {},
   "outputs": [],
   "source": [
    "train_counts = get_class_distribution(training_ds, class_names)\n",
    "train_counts"
   ]
  },
  {
   "cell_type": "code",
   "execution_count": null,
   "id": "bf4a5414",
   "metadata": {},
   "outputs": [],
   "source": [
    "validation_counts = get_class_distribution(validation_ds, class_names)\n",
    "validation_counts"
   ]
  },
  {
   "cell_type": "code",
   "execution_count": null,
   "id": "f2d68509",
   "metadata": {},
   "outputs": [],
   "source": [
    "test_counts = get_class_distribution(testing_ds, class_names)\n",
    "test_counts"
   ]
  },
  {
   "cell_type": "markdown",
   "id": "1bac3051",
   "metadata": {},
   "source": [
    "<p style=\"color: #e01; font-size: 23px;\">Training dataset</p>"
   ]
  },
  {
   "cell_type": "code",
   "execution_count": null,
   "id": "40e0f6e7",
   "metadata": {},
   "outputs": [],
   "source": [
    "plot_bar(train_counts, \"Class Distribution in Training Data\")\n",
    "plot_pie(train_counts, \"Percentage Distribution in Training Data\")"
   ]
  },
  {
   "cell_type": "markdown",
   "id": "1db0df0b",
   "metadata": {},
   "source": [
    "<p style=\"color: #0e1; font-size: 23px;\">Validation dataset</p>"
   ]
  },
  {
   "cell_type": "code",
   "execution_count": null,
   "id": "323cf031",
   "metadata": {},
   "outputs": [],
   "source": [
    "plot_bar(validation_counts, \"Class Distribution in Validation Data\")\n",
    "plot_pie(validation_counts, \"Percentage Distribution in Validation Data\")"
   ]
  },
  {
   "cell_type": "markdown",
   "id": "2c746229",
   "metadata": {},
   "source": [
    "<p style=\"color: #1ee; font-size: 23px;\">Testing dataset</p>"
   ]
  },
  {
   "cell_type": "code",
   "execution_count": null,
   "id": "04d77b55",
   "metadata": {},
   "outputs": [],
   "source": [
    "plot_bar(test_counts, \"Class Distribution in Test Data\")\n",
    "plot_pie(test_counts, \"Percentage Distribution in Test Data\")"
   ]
  },
  {
   "cell_type": "markdown",
   "id": "d1901c35",
   "metadata": {},
   "source": [
    "<p style=\"color: #e5ef23; font-size: 23px;\">dataset</p>"
   ]
  },
  {
   "cell_type": "code",
   "execution_count": null,
   "id": "3fd02c4c",
   "metadata": {},
   "outputs": [],
   "source": [
    "merged_data = pd.merge(train_counts, validation_counts, on='Class', how='outer', suffixes=('_Train', '_Validation'))\n",
    "merged_data = pd.merge(merged_data, test_counts, on='Class', how='outer')"
   ]
  },
  {
   "cell_type": "code",
   "execution_count": null,
   "id": "9d5d2229",
   "metadata": {},
   "outputs": [],
   "source": [
    "merged_data.columns = ['Class', 'Train', 'Validation', 'Test']\n",
    "merged_data"
   ]
  },
  {
   "cell_type": "code",
   "execution_count": null,
   "id": "37b86f3a",
   "metadata": {},
   "outputs": [],
   "source": [
    "merged_data = merged_data.sort_values(by='Class')\n",
    "merged_data"
   ]
  },
  {
   "cell_type": "code",
   "execution_count": null,
   "id": "cedc330e",
   "metadata": {},
   "outputs": [],
   "source": [
    "reshaped_data = merged_data.melt(id_vars='Class', value_vars=['Train', 'Validation', 'Test'],\n",
    "                                var_name='Dataset', value_name='Count')\n",
    "reshaped_data"
   ]
  },
  {
   "cell_type": "code",
   "execution_count": null,
   "id": "96c7a508",
   "metadata": {},
   "outputs": [],
   "source": [
    "plt.figure(figsize=(14, 7))\n",
    "sns.barplot(x='Class', y='Count', hue='Dataset', data=reshaped_data, palette=COLORS)\n",
    "plt.title('Class Distribution for Training, Validation, and Testing')\n",
    "\n",
    "plt.xticks(rotation=45, ha='right', fontsize=10)\n",
    "\n",
    "plt.grid(axis='y', linestyle='--', alpha=0.6)\n",
    "\n",
    "plt.tight_layout()\n",
    "\n",
    "plt.show()"
   ]
  },
  {
   "cell_type": "markdown",
   "id": "73a7b99e",
   "metadata": {},
   "source": [
    "<h1>Pre-processing</h1>"
   ]
  },
  {
   "cell_type": "code",
   "execution_count": null,
   "id": "13b60b8d",
   "metadata": {},
   "outputs": [],
   "source": [
    "resize_and_rescale = tf.keras.Sequential([\n",
    "    layers.Resizing(IMAGE_SIZE, IMAGE_SIZE),\n",
    "    layers.Rescaling(1.0/255) \n",
    "])"
   ]
  },
  {
   "cell_type": "markdown",
   "id": "f51ff5fd",
   "metadata": {},
   "source": [
    "<h1>Data Augmentation</h1>"
   ]
  },
  {
   "cell_type": "code",
   "execution_count": null,
   "id": "7fc6b915",
   "metadata": {},
   "outputs": [],
   "source": [
    "data_augmentation = tf.keras.Sequential([\n",
    "    layers.RandomFlip(\"horizontal_and_vertical\"), \n",
    "    layers.RandomRotation(0.2),\n",
    "    layers.RandomZoom(0.1),\n",
    "    layers.RandomTranslation(0.1, 0.1),\n",
    "    layers.RandomContrast(0.1),\n",
    "    layers.RandomBrightness(0.2),\n",
    "    layers.GaussianNoise(0.05),\n",
    "])"
   ]
  },
  {
   "cell_type": "code",
   "execution_count": null,
   "id": "186f81f5",
   "metadata": {},
   "outputs": [],
   "source": [
    "model = models.Sequential([\n",
    "    resize_and_rescale,\n",
    "    data_augmentation,\n",
    "    layers.Conv2D(FILTERS_NUMBER, HUGE_FILTER_SIZE, activation=\"relu\", input_shape = INPUT_SHAPE),\n",
    "    layers.MaxPooling2D(POOLING_SIZE),\n",
    "    layers.Conv2D(FILTERS_NUMBER * 2, HUGE_FILTER_SIZE, activation=\"relu\"),\n",
    "    layers.MaxPooling2D(POOLING_SIZE),\n",
    "    layers.Conv2D(FILTERS_NUMBER * 2, FILTER_SIZE, activation=\"relu\"),\n",
    "    layers.MaxPooling2D(POOLING_SIZE),\n",
    "    layers.Conv2D(FILTERS_NUMBER * 2, FILTER_SIZE, activation=\"relu\"),\n",
    "    layers.MaxPooling2D(POOLING_SIZE),\n",
    "    layers.Conv2D(FILTERS_NUMBER * 2, FILTER_SIZE, activation=\"relu\"),\n",
    "    layers.MaxPooling2D(POOLING_SIZE),\n",
    "    layers.Conv2D(FILTERS_NUMBER * 2, FILTER_SIZE, activation=\"relu\", padding=\"same\"),\n",
    "    layers.MaxPooling2D(POOLING_SIZE),\n",
    "    layers.LeakyReLU(alpha=0.2),\n",
    "    layers.Flatten(),\n",
    "    layers.Dense(64, activation=\"relu\"),\n",
    "    layers.Dense(n_classes, activation=\"softmax\")\n",
    "])\n",
    "\n",
    "model.build(input_shape=INPUT_SHAPE)"
   ]
  },
  {
   "cell_type": "code",
   "execution_count": null,
   "id": "e3da64e8",
   "metadata": {},
   "outputs": [],
   "source": [
    "model.summary()"
   ]
  },
  {
   "cell_type": "code",
   "execution_count": null,
   "id": "d2c37793",
   "metadata": {},
   "outputs": [],
   "source": [
    "model.compile(\n",
    "    optimizer=\"adam\",\n",
    "    loss=tf.keras.losses.SparseCategoricalCrossentropy(from_logits=False),\n",
    "    metrics=[\"accuracy\"]\n",
    ")"
   ]
  },
  {
   "cell_type": "markdown",
   "id": "555523d9",
   "metadata": {},
   "source": [
    "<h1>Model training</h1>"
   ]
  },
  {
   "cell_type": "code",
   "execution_count": null,
   "id": "a8319788",
   "metadata": {},
   "outputs": [],
   "source": [
    "history = model.fit(\n",
    "    training_ds,\n",
    "    epochs=EPOCHS,\n",
    "    verbose=1,\n",
    "    validation_data=validation_ds\n",
    ")"
   ]
  },
  {
   "cell_type": "markdown",
   "id": "b395ac6b",
   "metadata": {},
   "source": [
    "<h1>Model showing results</h1>"
   ]
  },
  {
   "cell_type": "code",
   "execution_count": null,
   "id": "dd3c95f8",
   "metadata": {},
   "outputs": [],
   "source": [
    "acc = history.history[\"accuracy\"]\n",
    "acc"
   ]
  },
  {
   "cell_type": "code",
   "execution_count": null,
   "id": "a29f82c7",
   "metadata": {},
   "outputs": [],
   "source": [
    "val_acc = history.history[\"val_accuracy\"]\n",
    "val_acc"
   ]
  },
  {
   "cell_type": "code",
   "execution_count": null,
   "id": "f83e2f3b",
   "metadata": {},
   "outputs": [],
   "source": [
    "recall = history.history[\"recall\"]\n",
    "recall"
   ]
  },
  {
   "cell_type": "code",
   "execution_count": null,
   "id": "4b226199",
   "metadata": {},
   "outputs": [],
   "source": [
    "val_recall = history.history[\"val_recall\"]\n",
    "val_recall"
   ]
  },
  {
   "cell_type": "code",
   "execution_count": null,
   "id": "fd3b049b",
   "metadata": {},
   "outputs": [],
   "source": [
    "loss = history.history[\"loss\"]\n",
    "loss"
   ]
  },
  {
   "cell_type": "code",
   "execution_count": null,
   "id": "88919083",
   "metadata": {},
   "outputs": [],
   "source": [
    "val_loss = history.history[\"val_loss\"]\n",
    "val_loss"
   ]
  },
  {
   "cell_type": "code",
   "execution_count": null,
   "id": "b7d78a6d",
   "metadata": {},
   "outputs": [],
   "source": [
    "plt.figure(figsize=(8, 8))\n",
    "plt.subplot(1, 2, 1)\n",
    "plt.plot(range(EPOCHS), acc, label=\"Training Accuracy\")\n",
    "plt.plot(range(EPOCHS), val_acc, label=\"Validation Accuracy\")\n",
    "plt.legend(loc=\"lower right\")\n",
    "plt.title(\"Training and Validation Accuracy\")\n",
    "\n",
    "plt.subplot(1, 2, 2)\n",
    "plt.plot(range(EPOCHS), loss, label=\"Training Loss\")\n",
    "plt.plot(range(EPOCHS), val_loss, label=\"Validation Loss\")\n",
    "plt.legend(loc=\"upper right\")\n",
    "plt.title(\"Training and Validation Loss\")"
   ]
  },
  {
   "cell_type": "code",
   "execution_count": null,
   "id": "f43e71b8",
   "metadata": {},
   "outputs": [],
   "source": [
    "plt.figure(figsize=(8, 8))\n",
    "plt.subplot(1, 3, 1)\n",
    "plt.plot(range(EPOCHS), acc, label=\"Training Accuracy\")\n",
    "plt.plot(range(EPOCHS), val_acc, label=\"Validation Accuracy\")\n",
    "plt.legend(loc=\"lower right\")\n",
    "plt.title(\"Training and Validation Accuracy\")\n",
    "\n",
    "plt.figure(figsize=(8, 8))\n",
    "plt.subplot(1, 3, 2)\n",
    "plt.plot(range(EPOCHS), recall, label=\"Training Recall\")\n",
    "plt.plot(range(EPOCHS), val_recall, label=\"Validation Recall\")\n",
    "plt.legend(loc=\"lower right\")\n",
    "plt.title(\"Training and Validation Recall\")\n",
    "\n",
    "plt.subplot(1, 2, 3)\n",
    "plt.plot(range(EPOCHS), loss, label=\"Training Loss\")\n",
    "plt.plot(range(EPOCHS), val_loss, label=\"Validation Loss\")\n",
    "plt.legend(loc=\"upper right\")\n",
    "plt.title(\"Training and Validation Loss\")"
   ]
  },
  {
   "cell_type": "code",
   "execution_count": null,
   "id": "d540f4aa",
   "metadata": {},
   "outputs": [],
   "source": [
    "plt.figure(figsize=(15, 15))\n",
    "for images, labels in testing_ds.take(1):\n",
    "    for i in range(9):\n",
    "        ax = plt.subplot(3, 3, i+1)\n",
    "        plt.imshow(images[i].numpy().astype(\"uint8\"))\n",
    "        \n",
    "        predicted_class, confidence = predict(model, images[i].numpy(), class_names)\n",
    "        actual_class = class_names[labels[i]]\n",
    "        \n",
    "        plt.title(f\"Actual: {actual_class},\\n Prediction: {predicted_class},\\n Confidence: {confidence}\")\n",
    "        plt.axis(\"off\")"
   ]
  },
  {
   "cell_type": "code",
   "execution_count": null,
   "id": "63634a8b",
   "metadata": {},
   "outputs": [],
   "source": [
    "model.export(f\"../../model\")"
   ]
  }
 ],
 "metadata": {
  "kernelspec": {
   "display_name": "Python 3",
   "language": "python",
   "name": "python3"
  },
  "language_info": {
   "codemirror_mode": {
    "name": "ipython",
    "version": 3
   },
   "file_extension": ".py",
   "mimetype": "text/x-python",
   "name": "python",
   "nbconvert_exporter": "python",
   "pygments_lexer": "ipython3",
   "version": "3.12.10"
  }
 },
 "nbformat": 4,
 "nbformat_minor": 5
}
